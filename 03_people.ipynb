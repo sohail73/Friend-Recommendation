{
 "cells": [
  {
   "cell_type": "code",
   "execution_count": 6,
   "id": "93e1ef27-04c6-4d7e-ac39-1ba81089e203",
   "metadata": {},
   "outputs": [
    {
     "name": "stdout",
     "output_type": "stream",
     "text": [
      "[3]\n"
     ]
    }
   ],
   "source": [
    "import json\n",
    "\n",
    "def load_data(filename):\n",
    "    with open(filename, \"r\") as f: \n",
    "        return json.load(f)\n",
    "\n",
    "def find_people_you_may_know(user_id, data): \n",
    "    user_friends = {}\n",
    "    for user in data['users']:\n",
    "        user_friends[user['id']] = set(user['friends'])\n",
    "    \n",
    "    if user_id not in user_friends:\n",
    "        return []\n",
    "    \n",
    "    direct_friends = user_friends[user_id]\n",
    "    suggestions = {}\n",
    "    \n",
    "    for friend in direct_friends:\n",
    "        for mutual in user_friends[friend]: \n",
    "            if mutual != user_id and mutual not in direct_friends:\n",
    "                # Count mutual friends\n",
    "                suggestions[mutual] = suggestions.get(mutual, 0) + 1\n",
    "    \n",
    "    sorted_suggestions = sorted(suggestions.items(), key=lambda x: x[1], reverse=True)\n",
    "    return [uid for uid, mutual_count in sorted_suggestions]\n",
    "\n",
    "# load the data \n",
    "data = load_data(\"data.json\")\n",
    "user_id = 1\n",
    "recc = find_people_you_may_know(user_id, data)\n",
    "print(recc)\n"
   ]
  },
  {
   "cell_type": "code",
   "execution_count": null,
   "id": "47c1dc9c-96ef-4a44-b5cb-009d6029d236",
   "metadata": {},
   "outputs": [],
   "source": []
  }
 ],
 "metadata": {
  "kernelspec": {
   "display_name": "Python 3 (ipykernel)",
   "language": "python",
   "name": "python3"
  },
  "language_info": {
   "codemirror_mode": {
    "name": "ipython",
    "version": 3
   },
   "file_extension": ".py",
   "mimetype": "text/x-python",
   "name": "python",
   "nbconvert_exporter": "python",
   "pygments_lexer": "ipython3",
   "version": "3.13.5"
  }
 },
 "nbformat": 4,
 "nbformat_minor": 5
}
